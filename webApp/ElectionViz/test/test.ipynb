{
 "cells": [
  {
   "cell_type": "code",
   "execution_count": 1,
   "metadata": {},
   "outputs": [],
   "source": [
    "import copy"
   ]
  },
  {
   "cell_type": "code",
   "execution_count": 162,
   "metadata": {},
   "outputs": [],
   "source": [
    "class TweetsData:\n",
    "    def __init__(self, username, tweet_text, likes, sentiment, tweet_date, date_descriptor):\n",
    "        self.username = username\n",
    "        self.tweet_text = tweet_text\n",
    "        self.likes = likes\n",
    "        self.sentiment = sentiment\n",
    "        self.tweet_date = tweet_date\n",
    "        self.date_descriptor = date_descriptor\n",
    "\n",
    "    def __ge__(self, tweets_data):\n",
    "        return self.likes >= tweets_data.likes\n",
    "\n",
    "    def asdict(self):\n",
    "        ret = {}\n",
    "        ret['username'] = self.username\n",
    "        ret['tweet_text'] = self.tweet_text\n",
    "        ret['likes'] = self.likes\n",
    "        ret['sentiment'] = self.sentiment\n",
    "        ret['tweet_date'] = self.tweet_date\n",
    "        ret['date_descriptor'] = self.date_descriptor\n",
    "        return ret\n",
    "\n",
    "class Candidate:\n",
    "    def __init__(self, candidate):\n",
    "        self.candidate = candidate\n",
    "        self.pos = None\n",
    "        self.neg = None\n",
    "        self.combined = None\n",
    "\n",
    "    def insert_polarity(self, candidate_polarity):\n",
    "        if candidate_polarity.polarity == 'P':\n",
    "            if self.pos is None:\n",
    "                self.pos = candidate_polarity\n",
    "            else:\n",
    "                self.pos = self.pos.combine(candidate_polarity)\n",
    "        else:\n",
    "            if self.neg is None:\n",
    "                self.neg = candidate_polarity\n",
    "            else:\n",
    "                self.neg = self.neg.combine(candidate_polarity)\n",
    "\n",
    "    def add_pos(self, pos):\n",
    "        self.pos = pos\n",
    "\n",
    "    def add_neg(self, neg):\n",
    "        self.neg = neg\n",
    "        \n",
    "    def combine_pos_neg(self):\n",
    "        self.combined = self.pos.combine(self.neg) if self.pos is not None else copy.deepcopy(self.neg)\n",
    "\n",
    "    def combine(self, candidate):\n",
    "        c = self.candidate if self.candidate == candidate.candidate else None\n",
    "        new_candidate = Candidate(c)\n",
    "        pos = self.pos.combine(candidate.pos) if self.pos is not None else copy.deepcopy(candidate.pos)\n",
    "        neg = self.neg.combine(candidate.neg) if self.neg is not None else copy.deepcopy(candidate.neg)\n",
    "        new_candidate.add_pos(pos)\n",
    "        new_candidate.add_neg(neg)\n",
    "        return new_candidate\n",
    "\n",
    "    def asdict(self):\n",
    "        ret = {}\n",
    "        ret['P'] = self.pos.asdict() if self.pos is not None else 'null'\n",
    "        ret['N'] = self.neg.asdict() if self.neg is not None else 'null'\n",
    "        ret['combined'] = self.combined.asdict() if self.combined is not None else 'null'\n",
    "        return ret\n",
    "\n",
    "class CandidatePolarity:\n",
    "    def __init__(self, polarity, total_likes, num_tweets, avg_sentiment, tweet):\n",
    "        self.polarity = polarity\n",
    "        self.total_likes = total_likes\n",
    "        self.num_tweets = num_tweets\n",
    "        self.avg_sentiment = avg_sentiment\n",
    "        self.tweet = tweet\n",
    "\n",
    "    def combine(self, candidate_polarity):\n",
    "        if candidate_polarity is None:\n",
    "            return copy.deepcopy(self)\n",
    "        polarity = self.polarity if self.polarity == candidate_polarity.polarity else None\n",
    "        total_likes = self.total_likes + candidate_polarity.total_likes\n",
    "        num_tweets = self.num_tweets + candidate_polarity.num_tweets\n",
    "        avg_sentiment = (self.avg_sentiment * self.num_tweets + candidate_polarity.avg_sentiment * candidate_polarity.num_tweets) / num_tweets\n",
    "        tweet = self.tweet if self.tweet >= candidate_polarity.tweet else candidate_polarity.tweet\n",
    "        return CandidatePolarity(polarity, total_likes, num_tweets, avg_sentiment, tweet)\n",
    "\n",
    "    def asdict(self):\n",
    "        ret = {}\n",
    "        ret['polarity'] = self.polarity\n",
    "        ret['total_likes'] = self.total_likes\n",
    "        ret['avg_sentiment'] = self.avg_sentiment\n",
    "        ret['tweet'] = self.tweet.asdict()\n",
    "        return ret\n",
    "\n",
    "class Party:\n",
    "    def __init__(self, party):\n",
    "        self.party = party\n",
    "        self.candidates = []\n",
    "        self.combined = None\n",
    "\n",
    "    def add_candidate(self, candidate):\n",
    "        self.candidates.append(candidate)\n",
    "\n",
    "    def combine_candidates(self):\n",
    "        if len(self.candidates) == 0:\n",
    "            return\n",
    "        self.combined = self.candidates[0]\n",
    "        for i in range(1, len(self.candidates)):\n",
    "            self.combined = self.combined.combine(self.candidates[i])\n",
    "        self.combined.combine_pos_neg()\n",
    "\n",
    "    def asdict(self):\n",
    "        ret = {}\n",
    "        for c in self.candidates:\n",
    "            ret[c.candidate] = c.asdict()\n",
    "        ret['combined'] = self.combined.asdict()\n",
    "        return ret\n",
    "    \n",
    "    "
   ]
  },
  {
   "cell_type": "code",
   "execution_count": 123,
   "metadata": {},
   "outputs": [],
   "source": [
    "import random\n",
    "def generate_random_p_dict(p):\n",
    "    return {\n",
    "    'polarity': p,\n",
    "    'total_likes': 100,\n",
    "    'num_tweets': 30,\n",
    "    'avg_sentiment': 0.7 if p == 'P' else -0.6,\n",
    "    # tweet\n",
    "    'username': 'jmather25' if p == 'P' else 'Neg boy',\n",
    "    'tweet_text': 'Happy bday',\n",
    "    'likes': 80 if p == 'P' else 40,\n",
    "    'sentiment': 0.9 if p == 'P' else -0.6,\n",
    "    'tweet_date': 'May 26',\n",
    "    'date_descriptor': 'exact'\n",
    "    }"
   ]
  },
  {
   "cell_type": "code",
   "execution_count": 124,
   "metadata": {},
   "outputs": [],
   "source": [
    "party = 'Democrat'\n",
    "candidates = ['Bernie', 'Biden']"
   ]
  },
  {
   "cell_type": "code",
   "execution_count": 163,
   "metadata": {},
   "outputs": [],
   "source": [
    "res = {}\n",
    "for c in candidates:\n",
    "    for p in ['P', 'N']:\n",
    "        pk = generate_random_p_dict(p)\n",
    "        td = None\n",
    "        cp = None\n",
    "        if pk is not None:\n",
    "            td = TweetsData(pk['username'], pk['tweet_text'], pk['likes'], pk['sentiment'], pk['tweet_date'], pk['date_descriptor'])\n",
    "            cp = CandidatePolarity(pk['polarity'], pk['total_likes'], pk['num_tweets'], pk['avg_sentiment'], td)\n",
    "        cand = None\n",
    "        if c in res:\n",
    "            cand = res[c]\n",
    "        else:\n",
    "            cand = Candidate(c)\n",
    "            res[c] = cand\n",
    "        cand.insert_polarity(cp)\n",
    "    \n",
    "    "
   ]
  },
  {
   "cell_type": "code",
   "execution_count": 164,
   "metadata": {},
   "outputs": [],
   "source": [
    "res['Bernie'].combine_pos_neg()"
   ]
  },
  {
   "cell_type": "code",
   "execution_count": 165,
   "metadata": {},
   "outputs": [
    {
     "data": {
      "text/plain": [
       "{'P': {'polarity': 'P',\n",
       "  'total_likes': 100,\n",
       "  'avg_sentiment': 0.7,\n",
       "  'tweet': {'username': 'jmather25',\n",
       "   'tweet_text': 'Happy bday',\n",
       "   'likes': 80,\n",
       "   'sentiment': 0.9,\n",
       "   'tweet_date': 'May 26',\n",
       "   'date_descriptor': 'exact'}},\n",
       " 'N': {'polarity': 'N',\n",
       "  'total_likes': 100,\n",
       "  'avg_sentiment': -0.6,\n",
       "  'tweet': {'username': 'Neg boy',\n",
       "   'tweet_text': 'Happy bday',\n",
       "   'likes': 40,\n",
       "   'sentiment': -0.6,\n",
       "   'tweet_date': 'May 26',\n",
       "   'date_descriptor': 'exact'}},\n",
       " 'combined': {'polarity': None,\n",
       "  'total_likes': 200,\n",
       "  'avg_sentiment': 0.05,\n",
       "  'tweet': {'username': 'jmather25',\n",
       "   'tweet_text': 'Happy bday',\n",
       "   'likes': 80,\n",
       "   'sentiment': 0.9,\n",
       "   'tweet_date': 'May 26',\n",
       "   'date_descriptor': 'exact'}}}"
      ]
     },
     "execution_count": 165,
     "metadata": {},
     "output_type": "execute_result"
    }
   ],
   "source": [
    "res['Bernie'].asdict()"
   ]
  },
  {
   "cell_type": "code",
   "execution_count": 148,
   "metadata": {},
   "outputs": [
    {
     "data": {
      "text/plain": [
       "{'Bernie': <__main__.Candidate at 0x102e90fd0>,\n",
       " 'Biden': <__main__.Candidate at 0x102e604e0>}"
      ]
     },
     "execution_count": 148,
     "metadata": {},
     "output_type": "execute_result"
    }
   ],
   "source": [
    "res"
   ]
  },
  {
   "cell_type": "code",
   "execution_count": 166,
   "metadata": {},
   "outputs": [],
   "source": [
    "py = Party('Democrat')\n",
    "for c in candidates:\n",
    "    res[c].combine_pos_neg()\n",
    "    py.add_candidate(res[c])"
   ]
  },
  {
   "cell_type": "code",
   "execution_count": 157,
   "metadata": {},
   "outputs": [
    {
     "data": {
      "text/plain": [
       "[<__main__.Candidate at 0x104da6048>, <__main__.Candidate at 0x104da6780>]"
      ]
     },
     "execution_count": 157,
     "metadata": {},
     "output_type": "execute_result"
    }
   ],
   "source": [
    "py.candidates"
   ]
  },
  {
   "cell_type": "code",
   "execution_count": 167,
   "metadata": {},
   "outputs": [],
   "source": [
    "py.combine_candidates()"
   ]
  },
  {
   "cell_type": "code",
   "execution_count": 168,
   "metadata": {},
   "outputs": [
    {
     "name": "stdout",
     "output_type": "stream",
     "text": [
      "{'Bernie': {'N': {'avg_sentiment': -0.6,\n",
      "                  'polarity': 'N',\n",
      "                  'total_likes': 100,\n",
      "                  'tweet': {'date_descriptor': 'exact',\n",
      "                            'likes': 40,\n",
      "                            'sentiment': -0.6,\n",
      "                            'tweet_date': 'May 26',\n",
      "                            'tweet_text': 'Happy bday',\n",
      "                            'username': 'Neg boy'}},\n",
      "            'P': {'avg_sentiment': 0.7,\n",
      "                  'polarity': 'P',\n",
      "                  'total_likes': 100,\n",
      "                  'tweet': {'date_descriptor': 'exact',\n",
      "                            'likes': 80,\n",
      "                            'sentiment': 0.9,\n",
      "                            'tweet_date': 'May 26',\n",
      "                            'tweet_text': 'Happy bday',\n",
      "                            'username': 'jmather25'}},\n",
      "            'combined': {'avg_sentiment': 0.05,\n",
      "                         'polarity': None,\n",
      "                         'total_likes': 200,\n",
      "                         'tweet': {'date_descriptor': 'exact',\n",
      "                                   'likes': 80,\n",
      "                                   'sentiment': 0.9,\n",
      "                                   'tweet_date': 'May 26',\n",
      "                                   'tweet_text': 'Happy bday',\n",
      "                                   'username': 'jmather25'}}},\n",
      " 'Biden': {'N': {'avg_sentiment': -0.6,\n",
      "                 'polarity': 'N',\n",
      "                 'total_likes': 100,\n",
      "                 'tweet': {'date_descriptor': 'exact',\n",
      "                           'likes': 40,\n",
      "                           'sentiment': -0.6,\n",
      "                           'tweet_date': 'May 26',\n",
      "                           'tweet_text': 'Happy bday',\n",
      "                           'username': 'Neg boy'}},\n",
      "           'P': {'avg_sentiment': 0.7,\n",
      "                 'polarity': 'P',\n",
      "                 'total_likes': 100,\n",
      "                 'tweet': {'date_descriptor': 'exact',\n",
      "                           'likes': 80,\n",
      "                           'sentiment': 0.9,\n",
      "                           'tweet_date': 'May 26',\n",
      "                           'tweet_text': 'Happy bday',\n",
      "                           'username': 'jmather25'}},\n",
      "           'combined': {'avg_sentiment': 0.05,\n",
      "                        'polarity': None,\n",
      "                        'total_likes': 200,\n",
      "                        'tweet': {'date_descriptor': 'exact',\n",
      "                                  'likes': 80,\n",
      "                                  'sentiment': 0.9,\n",
      "                                  'tweet_date': 'May 26',\n",
      "                                  'tweet_text': 'Happy bday',\n",
      "                                  'username': 'jmather25'}}},\n",
      " 'combined': {'N': {'avg_sentiment': -0.6,\n",
      "                    'polarity': 'N',\n",
      "                    'total_likes': 200,\n",
      "                    'tweet': {'date_descriptor': 'exact',\n",
      "                              'likes': 40,\n",
      "                              'sentiment': -0.6,\n",
      "                              'tweet_date': 'May 26',\n",
      "                              'tweet_text': 'Happy bday',\n",
      "                              'username': 'Neg boy'}},\n",
      "              'P': {'avg_sentiment': 0.7,\n",
      "                    'polarity': 'P',\n",
      "                    'total_likes': 200,\n",
      "                    'tweet': {'date_descriptor': 'exact',\n",
      "                              'likes': 80,\n",
      "                              'sentiment': 0.9,\n",
      "                              'tweet_date': 'May 26',\n",
      "                              'tweet_text': 'Happy bday',\n",
      "                              'username': 'jmather25'}},\n",
      "              'combined': {'avg_sentiment': 0.05,\n",
      "                           'polarity': None,\n",
      "                           'total_likes': 400,\n",
      "                           'tweet': {'date_descriptor': 'exact',\n",
      "                                     'likes': 80,\n",
      "                                     'sentiment': 0.9,\n",
      "                                     'tweet_date': 'May 26',\n",
      "                                     'tweet_text': 'Happy bday',\n",
      "                                     'username': 'jmather25'}}}}\n"
     ]
    }
   ],
   "source": [
    "import pprint\n",
    "pprint.pprint(py.asdict())"
   ]
  },
  {
   "cell_type": "code",
   "execution_count": null,
   "metadata": {},
   "outputs": [],
   "source": []
  }
 ],
 "metadata": {
  "kernelspec": {
   "display_name": "Python 3",
   "language": "python",
   "name": "python3"
  },
  "language_info": {
   "codemirror_mode": {
    "name": "ipython",
    "version": 3
   },
   "file_extension": ".py",
   "mimetype": "text/x-python",
   "name": "python",
   "nbconvert_exporter": "python",
   "pygments_lexer": "ipython3",
   "version": "3.7.3"
  }
 },
 "nbformat": 4,
 "nbformat_minor": 2
}
